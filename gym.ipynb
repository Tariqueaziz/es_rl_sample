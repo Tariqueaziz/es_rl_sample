{
 "cells": [
  {
   "cell_type": "code",
   "execution_count": 15,
   "id": "224b5a29-e1d7-4b44-a4ab-3585cdd1c5f7",
   "metadata": {},
   "outputs": [
    {
     "data": {
      "text/plain": [
       "<torch._C.Generator at 0x7f04b846d1b0>"
      ]
     },
     "execution_count": 15,
     "metadata": {},
     "output_type": "execute_result"
    }
   ],
   "source": [
    "import gym\n",
    "import numpy as np\n",
    "import torch\n",
    "from collections import deque\n",
    "from collections import OrderedDict\n",
    "import pylab as plt\n",
    "np.random.seed(100)\n",
    "torch.manual_seed(100)"
   ]
  },
  {
   "cell_type": "code",
   "execution_count": 16,
   "id": "936296f9-92c6-4c89-a616-6b81cf76050a",
   "metadata": {},
   "outputs": [],
   "source": [
    "# generate noise according to shape of parameters in network\n",
    "def getNoise(policyBase, sigma):\n",
    "    params = policyBase.state_dict()\n",
    "    noise = OrderedDict()\n",
    "    for p in params:\n",
    "        n = torch.from_numpy(sigma * np.random.randn(*params[p].shape)).float()\n",
    "        noise[p] = n\n",
    "    return noise\n",
    "\n",
    "# apply noise to a policy to get perturbed policy\n",
    "def getPerturbedPolicy(baseParams, policyClass, policyBase, noise):\n",
    "    newPolicy = policyClass(*baseParams)\n",
    "    params = policyBase.state_dict()\n",
    "    for p in params:\n",
    "        params[p] += noise[p]\n",
    "    newPolicy.load_state_dict(params)\n",
    "    return newPolicy\n",
    "\n",
    "# update params based on rewards of population in one generation\n",
    "def updateParams(params, noises, rewards, population, sigma, lr):\n",
    "    # print(rewards)\n",
    "    rewards = (np.array(rewards) - np.mean(rewards)) / (np.std(rewards) + 1)\n",
    "    # print(rewards)\n",
    "    for i in range(len(rewards)):\n",
    "        for p in params:\n",
    "            params[p] += lr * noises[i][p] * rewards[i]/(population * sigma)\n",
    "    return params\n",
    "\n",
    "# run simulation to see behaviour of policy on env\n",
    "def showPolicy(env, policy, max_steps):\n",
    "    episode_reward = 0\n",
    "    state = env.reset()\n",
    "    for s in range(max_steps):\n",
    "        env.render()\n",
    "        action = torch.argmax(policy.forward(torch.FloatTensor(state)))\n",
    "        state, reward, done, _ = env.step(int(action))\n",
    "        episode_reward += reward\n",
    "        if done:\n",
    "            break\n",
    "    env.close()\n",
    "    return episode_reward\n",
    "\n",
    "# run a episode and get full reward of it\n",
    "def getReward(env, policy_network, max_steps):\n",
    "    episode_reward = 0\n",
    "    state = env.reset()\n",
    "    for s in range(max_steps):\n",
    "        action = torch.argmax(policy_network.forward(torch.FloatTensor(state)))\n",
    "        state, reward, done, _ = env.step(int(action))\n",
    "        episode_reward += reward\n",
    "        if done:\n",
    "            break\n",
    "    return episode_reward\n",
    "\n",
    "# test the policy for n episodes to see the average reward and whether the policy works\n",
    "def getAvgPerformance(env, policy, episodes, max_steps):\n",
    "    rewards = []\n",
    "    \n",
    "    for i in range(episodes):\n",
    "        state = env.reset()\n",
    "        episode_reward = 0\n",
    "        for s in range(max_steps):\n",
    "            action = torch.argmax(policy.forward(torch.FloatTensor(state)))\n",
    "            state, reward, done, _ = env.step(int(action))\n",
    "            episode_reward += reward\n",
    "            if done:\n",
    "                break\n",
    "        rewards.append(episode_reward)\n",
    "    return np.mean(episode_reward)\n",
    "        "
   ]
  },
  {
   "cell_type": "code",
   "execution_count": 17,
   "id": "f7c07d46-625b-48ac-be17-feb8f5cb521e",
   "metadata": {},
   "outputs": [],
   "source": [
    "# Evolutionary stratefy\n",
    "# env: gym environment\n",
    "# policyClass: pass the class of torch network as new are generated in each generation with different parameters\n",
    "# params: pass params (size of layers in torch network)\n",
    "# sigma: multiplier for noise\n",
    "# lr: learning rate\n",
    "# population: number of policies to generate in each generation\n",
    "# iterations: number of generations\n",
    "# max_steps: number of max steps for env simulation\n",
    "# threshold: if policy gives reward > threshold for 5 times then do early stopping\n",
    "# sigma_decay: multiplier to sigma to decay so there is more pertubation in beginning and fewer later in thr progression\n",
    "def es(env, policyClass, params, sigma, lr, population, iterations, max_steps, threshold, sigma_decay):\n",
    "    currentPolicy = policyClass(*params)\n",
    "    best_params = currentPolicy.state_dict()\n",
    "    best_reward = -10000\n",
    "    avgRewards = []\n",
    "    shortAvgRewards = deque(maxlen=5)\n",
    "    for _ in range(iterations):\n",
    "        updatedParams = currentPolicy.state_dict()\n",
    "        rewards = []\n",
    "        noises = []\n",
    "        for __ in range(population):\n",
    "            noise = getNoise(currentPolicy, sigma)\n",
    "            noises.append(noise)\n",
    "            individual = getPerturbedPolicy(params, policyClass, currentPolicy, noise)\n",
    "            reward = getReward(env, individual, max_steps)\n",
    "            rewards.append(reward)\n",
    "        updatedParams = updateParams(updatedParams, noises, rewards, population, sigma, lr)\n",
    "        avgReward = np.mean(rewards)\n",
    "        if(avgReward >= best_reward):\n",
    "            print(\"iteration: \", _, \"Reward: \", avgReward)\n",
    "            best_reward = avgReward\n",
    "            best_params = currentPolicy.state_dict()\n",
    "        currentPolicy.load_state_dict(updatedParams)\n",
    "\n",
    "        avgRewards.append(avgReward)\n",
    "        shortAvgRewards.append(avgReward)\n",
    "        if(np.mean(shortAvgRewards) > threshold):\n",
    "            print(str(_) + \" total iterations\")\n",
    "            break\n",
    "        \n",
    "        if (_ %100 == 0):\n",
    "            print(\"iteration: \", _, \"Reward: \", avgReward)\n",
    "        sigma **= sigma_decay\n",
    "        \n",
    "        \n",
    "    return best_params, avgRewards\n",
    "        "
   ]
  },
  {
   "cell_type": "markdown",
   "id": "472a3369-e403-41da-9e12-380b748e2bea",
   "metadata": {},
   "source": [
    "# Inverted Pole\n",
    "***"
   ]
  },
  {
   "cell_type": "code",
   "execution_count": 18,
   "id": "f48de5ca-1ced-41b1-940b-a7fed21e8c16",
   "metadata": {},
   "outputs": [],
   "source": [
    "class Net(torch.nn.Module):\n",
    "    def __init__(self, input_size, hidden_size, output_size):\n",
    "        super(Net,self).__init__()\n",
    "        self.input_size = input_size\n",
    "        self.hidden_size = hidden_size\n",
    "        self.output_size = output_size\n",
    "        self.layer1 = torch.nn.Linear(input_size, hidden_size)\n",
    "        self.layer2 = torch.nn.Linear(hidden_size, output_size)\n",
    "    \n",
    "    def forward(self,x):\n",
    "        x = self.layer1(x)\n",
    "        x = torch.relu(x)\n",
    "        x = self.layer2(x)\n",
    "        return x"
   ]
  },
  {
   "cell_type": "code",
   "execution_count": 19,
   "id": "863d2db3-12ea-4df0-a1f3-f1c48405ca85",
   "metadata": {
    "tags": []
   },
   "outputs": [
    {
     "name": "stdout",
     "output_type": "stream",
     "text": [
      "iteration:  0 Reward:  9.3\n",
      "iteration:  0 Reward:  9.3\n",
      "iteration:  1 Reward:  9.3\n",
      "iteration:  3 Reward:  9.5\n",
      "iteration:  9 Reward:  9.95\n",
      "iteration:  10 Reward:  10.0\n",
      "iteration:  11 Reward:  10.25\n",
      "iteration:  100 Reward:  9.2\n",
      "iteration:  200 Reward:  9.5\n",
      "iteration:  295 Reward:  14.75\n",
      "iteration:  296 Reward:  22.15\n",
      "iteration:  297 Reward:  28.5\n",
      "iteration:  300 Reward:  12.0\n",
      "iteration:  400 Reward:  9.5\n",
      "iteration:  500 Reward:  9.5\n",
      "iteration:  600 Reward:  9.1\n",
      "iteration:  640 Reward:  29.45\n",
      "iteration:  642 Reward:  36.6\n",
      "iteration:  645 Reward:  39.85\n",
      "iteration:  660 Reward:  40.7\n",
      "iteration:  679 Reward:  40.8\n",
      "iteration:  680 Reward:  46.85\n",
      "iteration:  681 Reward:  49.35\n",
      "iteration:  682 Reward:  51.65\n",
      "iteration:  683 Reward:  56.05\n",
      "iteration:  684 Reward:  67.8\n",
      "iteration:  689 Reward:  92.5\n",
      "iteration:  700 Reward:  46.45\n",
      "iteration:  705 Reward:  103.35\n",
      "iteration:  706 Reward:  126.5\n",
      "iteration:  800 Reward:  15.8\n",
      "iteration:  900 Reward:  30.8\n",
      "iteration:  1000 Reward:  17.65\n",
      "iteration:  1100 Reward:  9.35\n",
      "iteration:  1200 Reward:  12.95\n",
      "iteration:  1300 Reward:  9.5\n",
      "iteration:  1400 Reward:  10.2\n",
      "iteration:  1500 Reward:  39.85\n",
      "iteration:  1542 Reward:  129.4\n",
      "iteration:  1597 Reward:  129.85\n",
      "iteration:  1600 Reward:  101.4\n",
      "iteration:  1601 Reward:  134.7\n",
      "iteration:  1603 Reward:  141.25\n",
      "iteration:  1604 Reward:  142.6\n",
      "iteration:  1605 Reward:  165.4\n",
      "iteration:  1606 Reward:  174.4\n",
      "iteration:  1610 Reward:  183.1\n",
      "iteration:  1613 Reward:  185.35\n",
      "iteration:  1700 Reward:  8.95\n",
      "iteration:  1800 Reward:  9.55\n",
      "iteration:  1900 Reward:  9.35\n",
      "iteration:  2000 Reward:  9.7\n",
      "iteration:  2100 Reward:  10.1\n",
      "iteration:  2200 Reward:  9.55\n",
      "iteration:  2300 Reward:  9.6\n",
      "iteration:  2400 Reward:  9.35\n",
      "iteration:  2500 Reward:  9.45\n",
      "iteration:  2600 Reward:  9.35\n",
      "iteration:  2700 Reward:  9.45\n",
      "iteration:  2800 Reward:  41.75\n",
      "iteration:  2900 Reward:  34.45\n",
      "iteration:  2985 Reward:  185.8\n",
      "iteration:  2986 Reward:  189.2\n",
      "iteration:  2987 Reward:  191.25\n",
      "iteration:  2988 Reward:  191.75\n",
      "iteration:  2994 Reward:  192.7\n",
      "iteration:  3000 Reward:  200.0\n",
      "iteration:  3000 Reward:  200.0\n",
      "iteration:  3002 Reward:  200.0\n",
      "iteration:  3003 Reward:  200.0\n",
      "iteration:  3004 Reward:  200.0\n",
      "3004 total iterations\n"
     ]
    }
   ],
   "source": [
    "policy_params = [4, 20, 2]\n",
    "env = gym.make('CartPole-v0')\n",
    "env.seed(100)\n",
    "best_params, rewards = es(env, Net, policy_params, .01, .00001, 20, 4000, 200, 195, 1)"
   ]
  },
  {
   "cell_type": "code",
   "execution_count": 20,
   "id": "80f8c414-ce04-41f6-9720-bca195f2e358",
   "metadata": {},
   "outputs": [
    {
     "data": {
      "text/plain": [
       "[<matplotlib.lines.Line2D at 0x7f04a029a5c0>]"
      ]
     },
     "execution_count": 20,
     "metadata": {},
     "output_type": "execute_result"
    },
    {
     "data": {
      "image/png": "[encoded data removed]",
      "text/plain": [
       "<Figure size 432x288 with 1 Axes>"
      ]
     },
     "metadata": {
      "needs_background": "light"
     },
     "output_type": "display_data"
    }
   ],
   "source": [
    "plt.plot(rewards)"
   ]
  },
  {
   "cell_type": "code",
   "execution_count": 21,
   "id": "fd72ac29-0f65-40dd-9152-b7acec9b2f83",
   "metadata": {},
   "outputs": [],
   "source": [
    "bestPolicy = Net(*policy_params)\n",
    "bestPolicy.load_state_dict(best_params)"
   ]
  },
  {
   "cell_type": "code",
   "execution_count": 22,
   "id": "dfa713e6-550c-40e0-b0cf-575ffc7aab80",
   "metadata": {},
   "outputs": [
    {
     "data": {
      "text/plain": [
       "200.0"
      ]
     },
     "execution_count": 22,
     "metadata": {},
     "output_type": "execute_result"
    }
   ],
   "source": [
    "showPolicy(env, bestPolicy, 200)"
   ]
  },
  {
   "cell_type": "code",
   "execution_count": 23,
   "id": "b174b3a8-785c-4dd9-86f2-0120d84a3aa9",
   "metadata": {},
   "outputs": [
    {
     "data": {
      "text/plain": [
       "200.0"
      ]
     },
     "execution_count": 23,
     "metadata": {},
     "output_type": "execute_result"
    }
   ],
   "source": [
    "getAvgPerformance(env, bestPolicy, 200, 200)"
   ]
  },
  {
   "cell_type": "markdown",
   "id": "bddcdfb1-df89-4356-91a7-28ce37860071",
   "metadata": {},
   "source": [
    "# Lunar lander\n",
    "*****"
   ]
  },
  {
   "cell_type": "code",
   "execution_count": 24,
   "id": "72de7fb1-7e42-4bc0-b9a1-cdf0c5e3fef4",
   "metadata": {},
   "outputs": [],
   "source": [
    "class Net(torch.nn.Module):\n",
    "    def __init__(self, input_size, hidden_size1, hidden_size2, output_size):\n",
    "        super(Net,self).__init__()\n",
    "        self.input_size = input_size\n",
    "        self.hidden_size1 = hidden_size1\n",
    "        self.hidden_size2 = hidden_size2\n",
    "        self.output_size = output_size\n",
    "        self.layer1 = torch.nn.Linear(input_size, hidden_size1)\n",
    "        self.layer2 = torch.nn.Linear(hidden_size1, hidden_size2)\n",
    "        self.layer3 = torch.nn.Linear(hidden_size2, output_size)\n",
    "    \n",
    "    def forward(self,x):\n",
    "        x = self.layer1(x)\n",
    "        x = torch.relu(x)\n",
    "        x = self.layer2(x)\n",
    "        x = torch.relu(x)\n",
    "        x = self.layer3(x)\n",
    "        # x = torch.nn.Softmax(dim=0)(x)\n",
    "        # x = torch.sigmoid(x)\n",
    "        return x"
   ]
  },
  {
   "cell_type": "code",
   "execution_count": 25,
   "id": "bb7e575b-a0b9-4251-a79d-19d14af7e444",
   "metadata": {},
   "outputs": [
    {
     "name": "stdout",
     "output_type": "stream",
     "text": [
      "iteration:  0 Reward:  -247.70026560487463\n",
      "iteration:  0 Reward:  -247.70026560487463\n",
      "iteration:  4 Reward:  -208.03049071021843\n",
      "iteration:  30 Reward:  -195.22568145079572\n",
      "iteration:  31 Reward:  -145.77675100788503\n",
      "iteration:  43 Reward:  -138.59011490898527\n",
      "iteration:  44 Reward:  -137.26948623484213\n",
      "iteration:  45 Reward:  -119.54647307855092\n",
      "iteration:  53 Reward:  -114.07062121741194\n",
      "iteration:  100 Reward:  -494.9621281370466\n",
      "iteration:  200 Reward:  -538.8099852028099\n",
      "iteration:  300 Reward:  -527.9760987873514\n",
      "iteration:  400 Reward:  -560.7017513809461\n",
      "iteration:  500 Reward:  -581.6740953266499\n",
      "iteration:  600 Reward:  -625.2932248904378\n",
      "iteration:  700 Reward:  -902.1405568155396\n",
      "iteration:  800 Reward:  -1129.0915575670074\n",
      "iteration:  900 Reward:  -912.1373868532928\n",
      "iteration:  1000 Reward:  -773.3264304387712\n",
      "iteration:  1100 Reward:  -694.8292837788213\n",
      "iteration:  1200 Reward:  -752.8240471122024\n",
      "iteration:  1300 Reward:  -713.031368451743\n",
      "iteration:  1400 Reward:  -579.1491426826937\n",
      "iteration:  1500 Reward:  -646.2503880012962\n",
      "iteration:  1600 Reward:  -497.6160439901756\n",
      "iteration:  1700 Reward:  -579.8933205457345\n",
      "iteration:  1800 Reward:  -925.2231882973399\n",
      "iteration:  1900 Reward:  -588.8579801674172\n",
      "iteration:  2000 Reward:  -456.35419759186163\n",
      "iteration:  2100 Reward:  -624.7250861092633\n",
      "iteration:  2200 Reward:  -503.0901447404626\n",
      "iteration:  2300 Reward:  -399.7546476972297\n",
      "iteration:  2400 Reward:  -360.09986453217255\n",
      "iteration:  2500 Reward:  -528.3873229114553\n",
      "iteration:  2600 Reward:  -515.8063452816157\n",
      "iteration:  2700 Reward:  -496.0495463782503\n",
      "iteration:  2800 Reward:  -256.6625273549335\n",
      "iteration:  2900 Reward:  -327.6511679735818\n",
      "iteration:  3000 Reward:  -494.69666091960397\n",
      "iteration:  3100 Reward:  -449.0603075908126\n",
      "iteration:  3200 Reward:  -547.8780410466086\n",
      "iteration:  3300 Reward:  -378.551233088632\n",
      "iteration:  3400 Reward:  -512.5786234194421\n",
      "iteration:  3500 Reward:  -219.7940985667446\n",
      "iteration:  3514 Reward:  -100.95708070286364\n",
      "iteration:  3535 Reward:  -95.65983763746125\n",
      "iteration:  3600 Reward:  -272.7316420238503\n",
      "iteration:  3700 Reward:  -445.0892879069478\n",
      "iteration:  3800 Reward:  -469.2093948022046\n",
      "iteration:  3900 Reward:  -555.5132801835207\n",
      "iteration:  4000 Reward:  -561.621678045716\n",
      "iteration:  4100 Reward:  -455.8557784860103\n",
      "iteration:  4200 Reward:  -460.3283795109895\n",
      "iteration:  4300 Reward:  -498.7750696760377\n",
      "iteration:  4400 Reward:  -562.9657705471502\n",
      "iteration:  4500 Reward:  -351.0966733788265\n",
      "iteration:  4600 Reward:  -354.82599830599514\n",
      "iteration:  4700 Reward:  -318.3393463468577\n",
      "iteration:  4800 Reward:  -291.1920635433671\n",
      "iteration:  4900 Reward:  -356.39060716561016\n"
     ]
    }
   ],
   "source": [
    "policy_params = [8, 256, 256, 4]\n",
    "env = gym.make(\"LunarLander-v2\")\n",
    "env.seed(100)\n",
    "best_params, rewards = es(env, Net, policy_params, 1, .00001, 10, 5000, 1000, 200, .999)"
   ]
  },
  {
   "cell_type": "code",
   "execution_count": 26,
   "id": "811abe27-2390-4ff8-b915-43fba16efec1",
   "metadata": {},
   "outputs": [
    {
     "data": {
      "text/plain": [
       "[<matplotlib.lines.Line2D at 0x7f04a02e1ef0>]"
      ]
     },
     "execution_count": 26,
     "metadata": {},
     "output_type": "execute_result"
    },
    {
     "data": {
      "image/png": "[encoded data removed]",
      "text/plain": [
       "<Figure size 432x288 with 1 Axes>"
      ]
     },
     "metadata": {
      "needs_background": "light"
     },
     "output_type": "display_data"
    }
   ],
   "source": [
    "plt.plot(rewards)"
   ]
  },
  {
   "cell_type": "code",
   "execution_count": 37,
   "id": "18a61472-bac5-427c-b458-fcc1edd26d30",
   "metadata": {},
   "outputs": [
    {
     "data": {
      "text/plain": [
       "-282.1525911524937"
      ]
     },
     "execution_count": 37,
     "metadata": {},
     "output_type": "execute_result"
    }
   ],
   "source": [
    "bestPolicy = Net(*policy_params)\n",
    "bestPolicy.load_state_dict(best_params)\n",
    "showPolicy(env, bestPolicy, 1000)"
   ]
  },
  {
   "cell_type": "code",
   "execution_count": null,
   "id": "9f6fe5e8-442b-4751-8f23-82a0b1cd463e",
   "metadata": {},
   "outputs": [],
   "source": []
  }
 ],
 "metadata": {
  "kernelspec": {
   "display_name": "Python 3",
   "language": "python",
   "name": "python3"
  },
  "language_info": {
   "codemirror_mode": {
    "name": "ipython",
    "version": 3
   },
   "file_extension": ".py",
   "mimetype": "text/x-python",
   "name": "python",
   "nbconvert_exporter": "python",
   "pygments_lexer": "ipython3",
   "version": "3.6.13"
  }
 },
 "nbformat": 4,
 "nbformat_minor": 5
}
